{
 "cells": [
  {
   "cell_type": "code",
   "execution_count": 54,
   "metadata": {},
   "outputs": [],
   "source": [
    "import streamlit as st\n",
    "import matplotlib.pyplot as plt\n",
    "import tempfile\n",
    "import numpy as np\n",
    "import pandas as pd\n",
    "import cv2\n",
    "import math\n",
    "\n",
    "class TimeMesurement:\n",
    "    def __init__(self,filepath):\n",
    "        #投げられたfile pathから動画と総フレーム、FPSを取得\n",
    "        self.video = cv2.VideoCapture(filepath)\n",
    "        self.frame_num = int(self.video.get(cv2.CAP_PROP_FRAME_COUNT))\n",
    "        self.fps = self.video.get(cv2.CAP_PROP_FPS)\n",
    "        self.width = int(self.video.get(cv2.CAP_PROP_FRAME_WIDTH))\n",
    "    \n",
    "    def lightness(self):\n",
    "        frames = []\n",
    "        v_means = []\n",
    "        self.video.set(cv2.CAP_PROP_POS_FRAMES, 0)\n",
    "        for i in range(1,self.frame_num):\n",
    "            ret, frame = self.video.read()\n",
    "            hsv = cv2.cvtColor(frame,cv2.COLOR_BGR2HSV)\n",
    "            h, s, v = cv2.split(hsv)\n",
    "            #動画の中心付近のv値の平均をv_meansに追加\n",
    "            v_means.append(v[:, int(self.width/2) - 5: int(self.width/2) + 5].mean())\n",
    "            frames.append(i)\n",
    "        return np.array(frames), np.array(v_means)\n",
    "    \n",
    "    def valid_convolve(self, xx, size):\n",
    "            #補正された移動平均を出力\n",
    "            b = np.ones(size)/size\n",
    "            xx_mean = np.convolve(xx, b, mode=\"same\")\n",
    "\n",
    "            n_conv = math.ceil(size/2)\n",
    "\n",
    "            # 補正部分\n",
    "            xx_mean[0] *= size/n_conv\n",
    "            for i in range(1, n_conv):\n",
    "                xx_mean[i] *= size/(i+n_conv)\n",
    "                xx_mean[-i] *= size/(i + n_conv - (size % 2)) \n",
    "            # size%2は奇数偶数での違いに対応するため\n",
    "            return xx_mean\n",
    "    \n",
    "    def sequence_average(self, x):\n",
    "        #[34,35,56,67,89,90]のような形から、連続している部分の中心を出力(ピークトップとする)\n",
    "        averages = []\n",
    "        group = [x[0]]\n",
    "        for i in range(1,len(x)):\n",
    "            if x[i] == x[i-1] + 1:\n",
    "                group.append(x[i])\n",
    "            \n",
    "            else:\n",
    "                averages.append(sum(group) / len(group))\n",
    "                group = [x[i]]\n",
    "        averages.append(sum(group) / len(group))\n",
    "        return averages\n",
    "\n",
    "    def peakpeak(self,size=10,threshold=4):\n",
    "        #輝度の時間変化\n",
    "        x = self.lightness()[1]\n",
    "        #時間変化の移動平均を産出\n",
    "        x_mean = self.valid_convolve(x, size) \n",
    "        #移動平均との差から鋭いピークを取得\n",
    "        x_resd = x - x_mean\n",
    "        #threshold以下の増減はすべて0に\n",
    "        x_flatten = np.array(list(map(lambda x: 0 if x<threshold else x, x_resd)))\n",
    "        plt.plot(range(len(x)),x_flatten)\n",
    "        plt.show()\n",
    "        x_fla_df = pd.DataFrame(x_flatten,columns=[\"frame\"])\n",
    "        non_zero_frames =  x_fla_df[x_fla_df[\"frame\"] != 0 ].index\n",
    "        peak_frames = self.sequence_average(non_zero_frames)\n",
    "        return np.array(peak_frames)"
   ]
  },
  {
   "cell_type": "code",
   "execution_count": 55,
   "metadata": {},
   "outputs": [
    {
     "data": {
      "text/plain": [
       "29.974798636161488"
      ]
     },
     "execution_count": 55,
     "metadata": {},
     "output_type": "execute_result"
    }
   ],
   "source": [
    "TM = TimeMesurement(\"./test_movie/test_start2.mov\")\n",
    "TM.fps"
   ]
  },
  {
   "cell_type": "code",
   "execution_count": 56,
   "metadata": {},
   "outputs": [
    {
     "ename": "TypeError",
     "evalue": "only integer scalar arrays can be converted to a scalar index",
     "output_type": "error",
     "traceback": [
      "\u001b[0;31m---------------------------------------------------------------------------\u001b[0m",
      "\u001b[0;31mTypeError\u001b[0m                                 Traceback (most recent call last)",
      "Cell \u001b[0;32mIn[56], line 1\u001b[0m\n\u001b[0;32m----> 1\u001b[0m \u001b[43mTM\u001b[49m\u001b[38;5;241;43m.\u001b[39;49m\u001b[43mpeakpeak\u001b[49m\u001b[43m(\u001b[49m\u001b[38;5;241;43m1\u001b[39;49m\u001b[43m)\u001b[49m\n",
      "Cell \u001b[0;32mIn[54], line 68\u001b[0m, in \u001b[0;36mTimeMesurement.peakpeak\u001b[0;34m(self, size, threshold)\u001b[0m\n\u001b[1;32m     66\u001b[0m \u001b[38;5;66;03m#threshold以下の増減はすべて0に\u001b[39;00m\n\u001b[1;32m     67\u001b[0m x_flatten \u001b[38;5;241m=\u001b[39m np\u001b[38;5;241m.\u001b[39marray(\u001b[38;5;28mlist\u001b[39m(\u001b[38;5;28mmap\u001b[39m(\u001b[38;5;28;01mlambda\u001b[39;00m x: \u001b[38;5;241m0\u001b[39m \u001b[38;5;28;01mif\u001b[39;00m x\u001b[38;5;241m<\u001b[39mthreshold \u001b[38;5;28;01melse\u001b[39;00m x, x_resd)))\n\u001b[0;32m---> 68\u001b[0m plt\u001b[38;5;241m.\u001b[39mplot(\u001b[38;5;28;43mrange\u001b[39;49m\u001b[43m(\u001b[49m\u001b[38;5;28;43mlen\u001b[39;49m\u001b[43m(\u001b[49m\u001b[43mx\u001b[49m\u001b[43m)\u001b[49m\u001b[43m,\u001b[49m\u001b[43mx_flatten\u001b[49m\u001b[43m)\u001b[49m)\n\u001b[1;32m     69\u001b[0m plt\u001b[38;5;241m.\u001b[39mshow()\n\u001b[1;32m     70\u001b[0m x_fla_df \u001b[38;5;241m=\u001b[39m pd\u001b[38;5;241m.\u001b[39mDataFrame(x_flatten,columns\u001b[38;5;241m=\u001b[39m[\u001b[38;5;124m\"\u001b[39m\u001b[38;5;124mframe\u001b[39m\u001b[38;5;124m\"\u001b[39m])\n",
      "\u001b[0;31mTypeError\u001b[0m: only integer scalar arrays can be converted to a scalar index"
     ]
    }
   ],
   "source": [
    "TM.peakpeak(1)"
   ]
  },
  {
   "cell_type": "code",
   "execution_count": 27,
   "metadata": {},
   "outputs": [],
   "source": [
    "light = TM.lightness()"
   ]
  },
  {
   "cell_type": "code",
   "execution_count": 29,
   "metadata": {},
   "outputs": [],
   "source": [
    "ave = TM.valid_convolve(light[1],len(light))"
   ]
  },
  {
   "cell_type": "code",
   "execution_count": 33,
   "metadata": {},
   "outputs": [
    {
     "data": {
      "text/plain": [
       "array([ True, False, False, ..., False, False, False])"
      ]
     },
     "execution_count": 33,
     "metadata": {},
     "output_type": "execute_result"
    }
   ],
   "source": [
    "ave == light[1]"
   ]
  },
  {
   "cell_type": "code",
   "execution_count": null,
   "metadata": {},
   "outputs": [],
   "source": [
    "TM"
   ]
  },
  {
   "cell_type": "code",
   "execution_count": 36,
   "metadata": {},
   "outputs": [
    {
     "data": {
      "image/png": "[encoded data removed]",
      "text/plain": [
       "<Figure size 640x480 with 1 Axes>"
      ]
     },
     "metadata": {},
     "output_type": "display_data"
    }
   ],
   "source": [
    "%matplotlib inline\n",
    "plt.plot(light[0][1150:1250],ave[1150:1250])\n",
    "plt.plot(light[0][1150:1250],light[1][1150:1250])\n",
    "plt.show()"
   ]
  },
  {
   "cell_type": "code",
   "execution_count": 37,
   "metadata": {},
   "outputs": [
    {
     "data": {
      "image/png": "[encoded data removed]",
      "text/plain": [
       "<Figure size 640x480 with 1 Axes>"
      ]
     },
     "metadata": {},
     "output_type": "display_data"
    }
   ],
   "source": [
    "%matplotlib inline\n",
    "plt.plot(light[0],light[1]-ave)\n",
    "plt.show()"
   ]
  },
  {
   "cell_type": "code",
   "execution_count": 6,
   "metadata": {},
   "outputs": [],
   "source": [
    "for f in light:\n",
    "    TM.video.set(cv2.CAP_PROP_POS_FRAMES, int(f))\n",
    "    ret,frame = TM.video.read()\n",
    "    cv2.imwrite(f\"{f}frame_start.png\", frame)"
   ]
  },
  {
   "cell_type": "code",
   "execution_count": null,
   "metadata": {},
   "outputs": [],
   "source": [
    "pae"
   ]
  },
  {
   "cell_type": "code",
   "execution_count": null,
   "metadata": {},
   "outputs": [],
   "source": [
    "TM.video.set(cv2.CAP_PROP_POS_FRAMES, 0)\n",
    "ret,frame = TM.video.read()\n",
    "# フレームサイズを取得して空の配列を作成\n",
    "average_frame = np.zeros_like(frame, np.float32)  # フロート型にしておく\n",
    "# フレームのカウント\n",
    "frame_count = 0\n",
    "# フレームごとの合計を計算\n",
    "while ret:\n",
    "    # フレームをfloat32に変換して足し算\n",
    "    frame_float = frame.astype(np.float32)\n",
    "    average_frame += frame_float\n",
    "\n",
    "    # 次のフレームを読み込み\n",
    "    ret, frame = TM.video.read()\n",
    "    frame_count += 1\n",
    "\n",
    "# 動画を閉じる\n",
    "TM.video.release()\n",
    "\n",
    "# フレーム数で割って平均化\n",
    "average_frame /= frame_count\n",
    "average_frame = np.clip(average_frame, 0, 255)  # ピクセル値が0-255の範囲内に収まるようにする\n",
    "average_frame = average_frame.astype(np.uint8)\n"
   ]
  },
  {
   "cell_type": "code",
   "execution_count": null,
   "metadata": {},
   "outputs": [],
   "source": [
    "average_frame"
   ]
  },
  {
   "cell_type": "code",
   "execution_count": null,
   "metadata": {},
   "outputs": [],
   "source": [
    "cv2.imwrite(\"average_frame.png\", average_frame)"
   ]
  },
  {
   "cell_type": "code",
   "execution_count": null,
   "metadata": {},
   "outputs": [],
   "source": [
    "TM = TimeMesurement(\"./test_movie/test_1.MOV\")\n",
    "TM.video.set(cv2.CAP_PROP_POS_FRAMES, 5600)\n",
    "ret,frame = TM.video.read()\n",
    "f32 = frame.astype(np.float32)\n",
    "af32 = average_frame.astype(np.float32)\n",
    "test_frame = np.clip(f32-af32, 0, 255)  # ピクセル値が0-255の範囲内に収まるようにする\n",
    "test_frame = test_frame.astype(np.uint8)\n",
    "cv2.imwrite(\"test.png\", test_frame)"
   ]
  },
  {
   "cell_type": "code",
   "execution_count": null,
   "metadata": {},
   "outputs": [],
   "source": [
    "cv2.imwrite(\"frame.png\", frame)"
   ]
  },
  {
   "cell_type": "code",
   "execution_count": null,
   "metadata": {},
   "outputs": [],
   "source": [
    "average_frame"
   ]
  },
  {
   "cell_type": "code",
   "execution_count": null,
   "metadata": {},
   "outputs": [],
   "source": [
    "import cv2\n",
    "import numpy as np\n",
    "\n",
    "# 動画ファイルのパス\n",
    "video_path = \"./test_movie/test_start.mov\"\n",
    "output_video_path = 'difference_video_3.mp4'\n",
    "\n",
    "# 動画を読み込む\n",
    "cap = cv2.VideoCapture(video_path)\n",
    "\n",
    "# 最初のフレームを取得してフレームサイズを確認\n",
    "ret, frame = cap.read()\n",
    "\n",
    "# 動画が開けない場合の処理\n",
    "if not ret:\n",
    "    print(\"動画が開けませんでした\")\n",
    "    cap.release()\n",
    "    exit()\n",
    "\n",
    "# フレームサイズとFPS（フレームレート）を取得\n",
    "frame_height, frame_width, _ = frame.shape\n",
    "fps = cap.get(cv2.CAP_PROP_FPS)\n",
    "\n",
    "# 動画の書き出しの準備 (MP4フォーマットで保存)\n",
    "fourcc = cv2.VideoWriter_fourcc(*'mp4v')  # コーデックの指定\n",
    "out = cv2.VideoWriter(output_video_path, fourcc, fps, (frame_width, frame_height))\n",
    "\n",
    "# 平均フレームの計算（前回の手順に従って計算）\n",
    "average_frame = np.zeros_like(frame, np.float32)\n",
    "frame_count = 0\n",
    "\n",
    "# フレームごとの合計を計算\n",
    "while ret:\n",
    "    frame_float = frame.astype(np.float32)\n",
    "    average_frame += frame_float\n",
    "    ret, frame = cap.read()\n",
    "    frame_count += 1\n",
    "\n",
    "# フレーム数で割って平均化\n",
    "average_frame /= frame_count\n",
    "average_frame = np.clip(average_frame, 0, 255)\n",
    "average_frame = average_frame.astype(np.uint8)\n",
    "\n",
    "# 動画をリセットして再度読み込む\n",
    "cap.release()\n",
    "cap = cv2.VideoCapture(video_path)\n",
    "\n",
    "# 各フレームと平均フレームの差分を計算して保存\n",
    "ret, frame = cap.read()\n",
    "while ret:\n",
    "    # 差分を計算 (絶対差分)\n",
    "    diff_frame = cv2.absdiff(frame, average_frame)\n",
    "    \n",
    "    # RGB変換処理\n",
    "    diff_frame = cv2.cvtColor(diff_frame, cv2.COLOR_BGR2RGB)\n",
    "\n",
    "    # 差分フレームを書き込み\n",
    "    out.write(diff_frame)\n",
    "    \n",
    "    # 次のフレームを読み込む\n",
    "    ret, frame = cap.read()\n",
    "\n",
    "# リソースの解放\n",
    "cap.release()\n",
    "out.release()\n",
    "cv2.destroyAllWindows()\n",
    "\n",
    "print(\"差分動画が保存されました: \", output_video_path)"
   ]
  },
  {
   "cell_type": "code",
   "execution_count": 2,
   "metadata": {},
   "outputs": [
    {
     "name": "stdout",
     "output_type": "stream",
     "text": [
      "差分動画が保存されました:  difference_video_4.mp4\n"
     ]
    }
   ],
   "source": [
    "#人を切り抜き\n",
    "\n",
    "import cv2\n",
    "import numpy as np\n",
    "\n",
    "# 動画ファイルのパス\n",
    "video_path = \"./test_movie/test_2.MOV\"\n",
    "output_video_path = 'difference_video_4.mp4'\n",
    "\n",
    "# 動画を読み込む\n",
    "cap = cv2.VideoCapture(video_path)\n",
    "\n",
    "# 最初のフレームを取得してフレームサイズを確認\n",
    "ret, frame = cap.read()\n",
    "\n",
    "# 動画が開けない場合の処理\n",
    "if not ret:\n",
    "    print(\"動画が開けませんでした\")\n",
    "    cap.release()\n",
    "    exit()\n",
    "\n",
    "\n",
    "#hsv空間に変換\n",
    "hsv = cv2.cvtColor(frame,cv2.COLOR_BGR2HSV)\n",
    "h, s, v = cv2.split(hsv)\n",
    "\n",
    "# フレームサイズとFPS（フレームレート）を取得\n",
    "frame_height, frame_width, _ = frame.shape\n",
    "fps = cap.get(cv2.CAP_PROP_FPS)\n",
    "\n",
    "# 動画の書き出しの準備 (MP4フォーマットで保存)\n",
    "fourcc = cv2.VideoWriter_fourcc(*'mp4v')  # コーデックの指定\n",
    "out = cv2.VideoWriter(output_video_path, fourcc, fps, (frame_width, frame_height),isColor=False)\n",
    "\n",
    "# 平均フレームの計算（前回の手順に従って計算）\n",
    "average_frame = np.zeros_like(v, np.float32)\n",
    "frame_count = 0\n",
    "\n",
    "# フレームごとの合計を計算\n",
    "while ret:\n",
    "    frame_float = v.astype(np.float32)\n",
    "    average_frame += frame_float\n",
    "    ret, frame = cap.read()\n",
    "    if not ret:\n",
    "        break\n",
    "    hsv = cv2.cvtColor(frame,cv2.COLOR_BGR2HSV)\n",
    "    h, s, v = cv2.split(hsv)\n",
    "    frame_count += 1\n",
    "    \n",
    "\n",
    "# フレーム数で割って平均化\n",
    "average_frame /= frame_count\n",
    "average_frame = np.clip(average_frame, 0, 255)\n",
    "average_frame = average_frame.astype(np.uint8)\n",
    "\n",
    "# 動画をリセットして再度読み込む\n",
    "cap.release()\n",
    "cap = cv2.VideoCapture(video_path)\n",
    "\n",
    "# 各フレームと平均フレームの差分を計算して保存\n",
    "ret, frame = cap.read()\n",
    "while ret:\n",
    "    #hsv空間に変換\n",
    "    hsv = cv2.cvtColor(frame,cv2.COLOR_BGR2HSV)\n",
    "    h, s, v = cv2.split(hsv)\n",
    "    # 差分を計算 (絶対差分)\n",
    "    diff_frame = cv2.absdiff(v, average_frame)\n",
    "\n",
    "    # 差分フレームを書き込み\n",
    "    out.write(diff_frame)\n",
    "    \n",
    "    # 次のフレームを読み込む\n",
    "    ret, frame = cap.read()\n",
    "\n",
    "# リソースの解放\n",
    "cap.release()\n",
    "out.release()\n",
    "cv2.destroyAllWindows()\n",
    "\n",
    "print(\"差分動画が保存されました: \", output_video_path)"
   ]
  },
  {
   "cell_type": "code",
   "execution_count": null,
   "metadata": {},
   "outputs": [],
   "source": []
  }
 ],
 "metadata": {
  "kernelspec": {
   "display_name": ".venv1",
   "language": "python",
   "name": ".venv1"
  },
  "language_info": {
   "codemirror_mode": {
    "name": "ipython",
    "version": 3
   },
   "file_extension": ".py",
   "mimetype": "text/x-python",
   "name": "python",
   "nbconvert_exporter": "python",
   "pygments_lexer": "ipython3",
   "version": "3.11.7"
  }
 },
 "nbformat": 4,
 "nbformat_minor": 2
}
